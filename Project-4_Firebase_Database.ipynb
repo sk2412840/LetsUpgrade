{
 "cells": [
  {
   "cell_type": "code",
   "execution_count": 2,
   "metadata": {},
   "outputs": [],
   "source": [
    "# Lets REad and Write to a real-time \n",
    "# Database server like Firebase "
   ]
  },
  {
   "cell_type": "raw",
   "metadata": {},
   "source": [
    "Every APP or Website requires 2 things in common - \n",
    "\n",
    "1. Authentication \n",
    "2. Database \n",
    "\n",
    "Zomato, Uber, Big Basket, JIO "
   ]
  },
  {
   "cell_type": "raw",
   "metadata": {},
   "source": [
    "If a developer wants to develop Database and \n",
    "Auth by them self, it take time ( Genrally 10,20 Days )"
   ]
  },
  {
   "cell_type": "raw",
   "metadata": {},
   "source": [
    "If we are a small scale company or a startup, we cnt afford that much time, Right ?\n",
    "\n",
    "So we want some Solution, which provides us Auth and DB instantly,  \n",
    "\n",
    "With efforts, so that system is Firebase "
   ]
  },
  {
   "cell_type": "code",
   "execution_count": 12,
   "metadata": {},
   "outputs": [
    {
     "name": "stdout",
     "output_type": "stream",
     "text": [
      "Requirement already satisfied: firebase in c:\\users\\kaku\\appdata\\local\\programs\\python\\python37\\lib\\site-packages (3.0.1)"
     ]
    },
    {
     "name": "stderr",
     "output_type": "stream",
     "text": [
      "WARNING: You are using pip version 19.2.3, however version 20.3.3 is available.\n",
      "You should consider upgrading via the 'python -m pip install --upgrade pip' command.\n"
     ]
    },
    {
     "name": "stdout",
     "output_type": "stream",
     "text": [
      "\n",
      "Requirement already satisfied: requests in c:\\users\\kaku\\appdata\\local\\programs\\python\\python37\\lib\\site-packages (from firebase) (2.25.1)\n",
      "Requirement already satisfied: urllib3<1.27,>=1.21.1 in c:\\users\\kaku\\appdata\\local\\programs\\python\\python37\\lib\\site-packages (from requests->firebase) (1.26.2)\n",
      "Requirement already satisfied: certifi>=2017.4.17 in c:\\users\\kaku\\appdata\\local\\programs\\python\\python37\\lib\\site-packages (from requests->firebase) (2020.12.5)\n",
      "Requirement already satisfied: idna<3,>=2.5 in c:\\users\\kaku\\appdata\\local\\programs\\python\\python37\\lib\\site-packages (from requests->firebase) (2.10)\n",
      "Requirement already satisfied: chardet<5,>=3.0.2 in c:\\users\\kaku\\appdata\\local\\programs\\python\\python37\\lib\\site-packages (from requests->firebase) (4.0.0)\n"
     ]
    }
   ],
   "source": [
    "#Step 1\n",
    "!pip install firebase"
   ]
  },
  {
   "cell_type": "code",
   "execution_count": 4,
   "metadata": {},
   "outputs": [],
   "source": [
    "# Step 2 \n",
    "\n",
    "#Create a Project in Firebase from firebase import Firebase"
   ]
  },
  {
   "cell_type": "code",
   "execution_count": 13,
   "metadata": {},
   "outputs": [],
   "source": [
    "# Step 3 - Import Firebase\n",
    "\n",
    "\n",
    "import firebase_admin\n"
   ]
  },
  {
   "cell_type": "code",
   "execution_count": 14,
   "metadata": {},
   "outputs": [],
   "source": [
    "# Step 4 - \n",
    "\n",
    "from firebase_admin import credentials\n",
    "from firebase_admin import firestore"
   ]
  },
  {
   "cell_type": "code",
   "execution_count": 15,
   "metadata": {},
   "outputs": [],
   "source": [
    "# Step 5 - Download the cred key from the Firebase "
   ]
  },
  {
   "cell_type": "code",
   "execution_count": 16,
   "metadata": {},
   "outputs": [],
   "source": [
    "# Step 6- Place it in your Folder where the \n",
    "# Firebase project is happening "
   ]
  },
  {
   "cell_type": "code",
   "execution_count": 18,
   "metadata": {},
   "outputs": [
    {
     "data": {
      "text/plain": [
       "<firebase_admin.App at 0x82b96c8>"
      ]
     },
     "execution_count": 18,
     "metadata": {},
     "output_type": "execute_result"
    }
   ],
   "source": [
    "cred = credentials.Certificate(\"ayush-letsupgrade-firebase-adminsdk-p11cf-1ce93e2bf0.json\")\n",
    "firebase_admin.initialize_app(cred)"
   ]
  },
  {
   "cell_type": "code",
   "execution_count": 22,
   "metadata": {},
   "outputs": [],
   "source": [
    "db = firestore.client()"
   ]
  },
  {
   "cell_type": "code",
   "execution_count": 30,
   "metadata": {},
   "outputs": [
    {
     "data": {
      "text/plain": [
       "update_time {\n",
       "  seconds: 1608376476\n",
       "  nanos: 216455000\n",
       "}"
      ]
     },
     "execution_count": 30,
     "metadata": {},
     "output_type": "execute_result"
    }
   ],
   "source": [
    "doc_ref = db.collection(u'users').document(u'abc')\n",
    "\n",
    "doc_ref.set({\n",
    "    u'first': u'Simon',\n",
    "    u'last': u'Khare',\n",
    "    u'born': 2007\n",
    "})"
   ]
  },
  {
   "cell_type": "code",
   "execution_count": 29,
   "metadata": {},
   "outputs": [],
   "source": [
    "# Step 7\n",
    "def enterDataInDB():\n",
    "    doc_ref = db.collection(u'LetsUpgradeUsers').document()\n",
    "    \n",
    "    name = input(\"Enter Name - \")\n",
    "    lastName = input(\"Enter Last Name - \")\n",
    "    age = int(input(\"Enter Age - \"))\n",
    "    \n",
    "    dit = {}\n",
    "    dit[\"firstName\"] = name\n",
    "    dit[\"lastName\"] = lastName\n",
    "    dit[\"age\"] = age\n",
    "    \n",
    "    doc_ref.set(dit)\n",
    "    "
   ]
  },
  {
   "cell_type": "code",
   "execution_count": 31,
   "metadata": {},
   "outputs": [
    {
     "name": "stdout",
     "output_type": "stream",
     "text": [
      "Enter Name - Ayush Kumar\n",
      "Enter Last Name - Saxena\n",
      "Enter Age - 20\n"
     ]
    }
   ],
   "source": [
    "enterDataInDB()"
   ]
  },
  {
   "cell_type": "code",
   "execution_count": 32,
   "metadata": {},
   "outputs": [
    {
     "name": "stdout",
     "output_type": "stream",
     "text": [
      "Enter Name - Simon \n",
      "Enter Last Name - Khare\n",
      "Enter Age - 13\n"
     ]
    }
   ],
   "source": [
    "enterDataInDB()"
   ]
  },
  {
   "cell_type": "code",
   "execution_count": 33,
   "metadata": {},
   "outputs": [
    {
     "name": "stdout",
     "output_type": "stream",
     "text": [
      "Enter Name - Harshit\n",
      "Enter Last Name - Kishore\n",
      "Enter Age - 20\n"
     ]
    }
   ],
   "source": [
    "enterDataInDB()"
   ]
  },
  {
   "cell_type": "code",
   "execution_count": 34,
   "metadata": {},
   "outputs": [
    {
     "name": "stdout",
     "output_type": "stream",
     "text": [
      "Enter Name - Akshay\n",
      "Enter Last Name - Kumar\n",
      "Enter Age - 18\n"
     ]
    }
   ],
   "source": [
    "enterDataInDB()"
   ]
  },
  {
   "cell_type": "code",
   "execution_count": 35,
   "metadata": {},
   "outputs": [
    {
     "name": "stdout",
     "output_type": "stream",
     "text": [
      "Enter Name - Ysah\n",
      "Enter Last Name - Khare\n",
      "Enter Age - 13\n"
     ]
    }
   ],
   "source": [
    "enterDataInDB()"
   ]
  },
  {
   "cell_type": "code",
   "execution_count": 36,
   "metadata": {},
   "outputs": [
    {
     "name": "stdout",
     "output_type": "stream",
     "text": [
      "Enter Name - Naman\n",
      "Enter Last Name - Khare\n",
      "Enter Age - 22\n"
     ]
    }
   ],
   "source": [
    "enterDataInDB()"
   ]
  },
  {
   "cell_type": "code",
   "execution_count": 37,
   "metadata": {},
   "outputs": [
    {
     "name": "stdout",
     "output_type": "stream",
     "text": [
      "Enter Name - Sumit\n",
      "Enter Last Name - Singh\n",
      "Enter Age - 32\n"
     ]
    }
   ],
   "source": [
    "enterDataInDB()\n"
   ]
  },
  {
   "cell_type": "code",
   "execution_count": 38,
   "metadata": {},
   "outputs": [
    {
     "name": "stdout",
     "output_type": "stream",
     "text": [
      "Enter Name - Somesh\n",
      "Enter Last Name - Kumar\n",
      "Enter Age - 50\n"
     ]
    }
   ],
   "source": [
    "enterDataInDB()\n"
   ]
  },
  {
   "cell_type": "code",
   "execution_count": 30,
   "metadata": {},
   "outputs": [],
   "source": [
    "# Step 8 - Read data from Firebase DB ( Firestore )\n",
    "\n"
   ]
  },
  {
   "cell_type": "code",
   "execution_count": 39,
   "metadata": {},
   "outputs": [
    {
     "name": "stdout",
     "output_type": "stream",
     "text": [
      "ID -  81TEjYuRgRp1UugIDUeJ\n",
      "First Name -  Naman\n",
      "Last Name -  Khare\n",
      "Age -  22\n",
      "---------------\n",
      "---------------\n",
      "ID -  Egb5YAkk2KLtG4Pq74sZ\n",
      "First Name -  Simon \n",
      "Last Name -  Khare\n",
      "Age -  13\n",
      "---------------\n",
      "---------------\n",
      "ID -  F9cS2hrjME5vRpu3ZAUc\n",
      "First Name -  Harshit\n",
      "Last Name -  Kishore\n",
      "Age -  20\n",
      "---------------\n",
      "---------------\n",
      "ID -  IwwgxWyVdOXsgP6u8tN1\n",
      "First Name -  Somesh\n",
      "Last Name -  Kumar\n",
      "Age -  50\n",
      "---------------\n",
      "---------------\n",
      "ID -  d8MNudGUyRPZMmnEOEbW\n",
      "First Name -  Akshay\n",
      "Last Name -  Kumar\n",
      "Age -  18\n",
      "---------------\n",
      "---------------\n",
      "ID -  e04TiXXGJdizbRVlpQ63\n",
      "First Name -  Sumit\n",
      "Last Name -  Singh\n",
      "Age -  32\n",
      "---------------\n",
      "---------------\n",
      "ID -  keRl7K0H2Q9jNl3Tkf7Z\n",
      "First Name -  Ayush Kumar\n",
      "Last Name -  Saxena\n",
      "Age -  20\n",
      "---------------\n",
      "---------------\n",
      "ID -  mTDE8XtbtHLk57icp0OK\n",
      "First Name -  Ysah\n",
      "Last Name -  Khare\n",
      "Age -  13\n",
      "---------------\n",
      "---------------\n"
     ]
    }
   ],
   "source": [
    "docs = db.collection(u'LetsUpgradeUsers').stream()\n",
    "\n",
    "for doc in docs:\n",
    "#     print(f'{doc.id} => {doc.to_dict()}')\n",
    "    \n",
    "    print(\"ID - \", doc.id)\n",
    "    \n",
    "    print(\"First Name - \", doc.to_dict().get(\"firstName\"))\n",
    "    print(\"Last Name - \", doc.to_dict().get(\"lastName\"))\n",
    "    print(\"Age - \", doc.to_dict().get(\"age\") )\n",
    "    \n",
    "    print(\"---------------\")\n",
    "    print(\"---------------\")\n",
    "    "
   ]
  },
  {
   "cell_type": "code",
   "execution_count": 41,
   "metadata": {},
   "outputs": [],
   "source": [
    "# Step. 9 - Update a Entry -> \n",
    "\n",
    "def updateDatainFirebase(uid, updatedAge):\n",
    "    doc_ref = db.collection(u'LetsUpgradeUsers').document(uid)\n",
    "    \n",
    "    doc_ref.update({\"age\":updatedAge})"
   ]
  },
  {
   "cell_type": "code",
   "execution_count": 42,
   "metadata": {},
   "outputs": [],
   "source": [
    "updateDatainFirebase(\"mTDE8XtbtHLk57icp0OK\",26)"
   ]
  },
  {
   "cell_type": "code",
   "execution_count": 43,
   "metadata": {},
   "outputs": [],
   "source": [
    "updateDatainFirebase(\"keRl7K0H2Q9jNl3Tkf7Z\",22)"
   ]
  },
  {
   "cell_type": "code",
   "execution_count": 44,
   "metadata": {},
   "outputs": [],
   "source": [
    "# Step 10 - Delete Data from Firebase \n",
    "\n",
    "def deleteDataInFirebase(uid):\n",
    "    db.collection(u'LetsUpgradeUsers').document(uid).delete()\n"
   ]
  },
  {
   "cell_type": "code",
   "execution_count": 45,
   "metadata": {},
   "outputs": [],
   "source": [
    "deleteDataInFirebase(\"F9cS2hrjME5vRpu3ZAUc\")"
   ]
  },
  {
   "cell_type": "code",
   "execution_count": 46,
   "metadata": {},
   "outputs": [],
   "source": [
    "deleteDataInFirebase(\"e04TiXXGJdizbRVlpQ63\")"
   ]
  },
  {
   "cell_type": "code",
   "execution_count": null,
   "metadata": {},
   "outputs": [],
   "source": []
  },
  {
   "cell_type": "code",
   "execution_count": null,
   "metadata": {},
   "outputs": [],
   "source": []
  }
 ],
 "metadata": {
  "kernelspec": {
   "display_name": "Python 3",
   "language": "python",
   "name": "python3"
  },
  "language_info": {
   "codemirror_mode": {
    "name": "ipython",
    "version": 3
   },
   "file_extension": ".py",
   "mimetype": "text/x-python",
   "name": "python",
   "nbconvert_exporter": "python",
   "pygments_lexer": "ipython3",
   "version": "3.7.7"
  }
 },
 "nbformat": 4,
 "nbformat_minor": 2
}
